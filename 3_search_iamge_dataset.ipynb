{
 "metadata": {
  "language_info": {
   "codemirror_mode": {
    "name": "ipython",
    "version": 3
   },
   "file_extension": ".py",
   "mimetype": "text/x-python",
   "name": "python",
   "nbconvert_exporter": "python",
   "pygments_lexer": "ipython3",
   "version": "3.8.5-final"
  },
  "orig_nbformat": 2,
  "kernelspec": {
   "name": "python3",
   "display_name": "Python 3.8.5 64-bit ('pytorch_gpu': conda)",
   "metadata": {
    "interpreter": {
     "hash": "87ea0c2bfc8d33363b62de134cfa12cc037bed7b7625ab24887ee8fe91891aef"
    }
   }
  }
 },
 "nbformat": 4,
 "nbformat_minor": 2,
 "cells": [
  {
   "cell_type": "code",
   "execution_count": 1,
   "metadata": {},
   "outputs": [],
   "source": [
    "from pathlib import Path\n",
    "import numpy as np \n",
    "import pandas as pd \n",
    "\n",
    "dataset_version = 'lite'\n",
    "unsplash_dataset_path = Path(\"../ML_data/unsplash-dataset\") / dataset_version\n",
    "features_path = unsplash_dataset_path / \"features\"\n",
    "\n",
    "photos = pd.read_csv(unsplash_dataset_path / \"photos.tsv000\", sep='\\t', header = 0)\n",
    "\n",
    "photo_features = np.load(features_path / \"features.npy\")\n",
    "photo_ids = pd.read_csv(features_path / \"photo_ids.csv\")\n",
    "photo_ids = list(photo_ids[\"photo_id\"])"
   ]
  },
  {
   "cell_type": "code",
   "execution_count": 2,
   "metadata": {},
   "outputs": [
    {
     "output_type": "execute_result",
     "data": {
      "text/plain": [
       "photo_id                                                                2Q8zDWkj0Yw\n",
       "photo_url                                   https://unsplash.com/photos/2Q8zDWkj0Yw\n",
       "photo_image_url                   https://images.unsplash.com/photo-141520117961...\n",
       "photo_submitted_at                                       2014-11-05 15:26:26.678711\n",
       "photo_featured                                                                    t\n",
       "photo_width                                                                    4192\n",
       "photo_height                                                                   2794\n",
       "photo_aspect_ratio                                                              1.5\n",
       "photo_description                                                               NaN\n",
       "photographer_username                                                 lanceanderson\n",
       "photographer_first_name                                                       Lance\n",
       "photographer_last_name                                                     Anderson\n",
       "exif_camera_make                                                  NIKON CORPORATION\n",
       "exif_camera_model                                                        NIKON D700\n",
       "exif_iso                                                                       2000\n",
       "exif_aperture_value                                                             2.5\n",
       "exif_focal_length                                                              50.0\n",
       "exif_exposure_time                                                            1/125\n",
       "photo_location_name                                                             NaN\n",
       "photo_location_latitude                                                         NaN\n",
       "photo_location_longitude                                                        NaN\n",
       "photo_location_country                                                          NaN\n",
       "photo_location_city                                                             NaN\n",
       "stats_views                                                                15854580\n",
       "stats_downloads                                                              146388\n",
       "ai_description                        school of jellyfish swimming in body of water\n",
       "ai_primary_landmark_name                                                        NaN\n",
       "ai_primary_landmark_latitude                                                    NaN\n",
       "ai_primary_landmark_longitude                                                   NaN\n",
       "ai_primary_landmark_confidence                                                  NaN\n",
       "Name: 0, dtype: object"
      ]
     },
     "metadata": {},
     "execution_count": 2
    }
   ],
   "source": [
    "photos.iloc[0]"
   ]
  },
  {
   "cell_type": "code",
   "execution_count": 3,
   "metadata": {},
   "outputs": [],
   "source": [
    "import clip\n",
    "import torch\n",
    "\n",
    "device = \"cuda\" if torch.cuda.is_available() else \"cpu\"\n",
    "model, prepocess = clip.load(\"ViT-B/32\", device=device)"
   ]
  },
  {
   "cell_type": "code",
   "execution_count": 4,
   "metadata": {},
   "outputs": [],
   "source": [
    "search_query = \"Two dogs playing in the snow\"\n",
    "with torch.no_grad():\n",
    "    text_encoded = model.encode_text(clip.tokenize(search_query).to(device))\n",
    "    text_encoded /= text_encoded.norm(dim=-1, keepdim = True)"
   ]
  },
  {
   "cell_type": "code",
   "execution_count": 5,
   "metadata": {},
   "outputs": [],
   "source": [
    "text_features = text_encoded.cpu().numpy()\n",
    "similarities = list((text_features @ photo_features.T).squeeze(0))\n",
    "best_photos = sorted(zip(similarities, range(photo_features.shape[0])), key=lambda x: x[0], reverse=True)"
   ]
  },
  {
   "cell_type": "code",
   "execution_count": 6,
   "metadata": {},
   "outputs": [
    {
     "output_type": "execute_result",
     "data": {
      "text/plain": [
       "(0.3162, 8220)"
      ]
     },
     "metadata": {},
     "execution_count": 6
    }
   ],
   "source": [
    "best_photos[0]"
   ]
  },
  {
   "cell_type": "code",
   "execution_count": 7,
   "metadata": {},
   "outputs": [
    {
     "output_type": "display_data",
     "data": {
      "text/html": "<img src=\"https://images.unsplash.com/photo-1577366761509-937637f02454?w=640\"/>",
      "text/plain": "<IPython.core.display.Image object>"
     },
     "metadata": {}
    },
    {
     "output_type": "display_data",
     "data": {
      "text/plain": "<IPython.core.display.HTML object>",
      "text/html": "Photo by <a href=\"https://unsplash.com/@lukavovk?utm_source=NaturalLanguageImageSearch&utm_medium=referral\">Luka Vovk</a> on <a href=\"https://unsplash.com/?utm_source=NaturalLanguageImageSearch&utm_medium=referral\">Unsplash</a>, similarity=0.316162109375"
     },
     "metadata": {}
    },
    {
     "output_type": "stream",
     "name": "stdout",
     "text": [
      "\n"
     ]
    },
    {
     "output_type": "display_data",
     "data": {
      "text/html": "<img src=\"https://images.unsplash.com/photo-1583762713699-7a6d1b8b6679?w=640\"/>",
      "text/plain": "<IPython.core.display.Image object>"
     },
     "metadata": {}
    },
    {
     "output_type": "display_data",
     "data": {
      "text/plain": "<IPython.core.display.HTML object>",
      "text/html": "Photo by <a href=\"https://unsplash.com/@tadekl?utm_source=NaturalLanguageImageSearch&utm_medium=referral\">Tadeusz Lakota</a> on <a href=\"https://unsplash.com/?utm_source=NaturalLanguageImageSearch&utm_medium=referral\">Unsplash</a>, similarity=0.307861328125"
     },
     "metadata": {}
    },
    {
     "output_type": "stream",
     "name": "stdout",
     "text": [
      "\n"
     ]
    },
    {
     "output_type": "display_data",
     "data": {
      "text/html": "<img src=\"https://images.unsplash.com/photo-1586290447123-12a8596dcaef?w=640\"/>",
      "text/plain": "<IPython.core.display.Image object>"
     },
     "metadata": {}
    },
    {
     "output_type": "display_data",
     "data": {
      "text/plain": "<IPython.core.display.HTML object>",
      "text/html": "Photo by <a href=\"https://unsplash.com/@r3dmax?utm_source=NaturalLanguageImageSearch&utm_medium=referral\">Jonatan Pie</a> on <a href=\"https://unsplash.com/?utm_source=NaturalLanguageImageSearch&utm_medium=referral\">Unsplash</a>, similarity=0.299560546875"
     },
     "metadata": {}
    },
    {
     "output_type": "stream",
     "name": "stdout",
     "text": [
      "\n"
     ]
    }
   ],
   "source": [
    "from IPython.display import Image\n",
    "from IPython.core.display import HTML\n",
    "for i in range(3):\n",
    "    idx = best_photos[i][1]\n",
    "    photo_id = photo_ids[idx]\n",
    "    photo_data = photos[photos[\"photo_id\"] == photo_id].iloc[0]\n",
    "    display(Image(url=photo_data[\"photo_image_url\"]+\"?w=640\"))\n",
    "    display(HTML(f'Photo by <a href=\"https://unsplash.com/@{photo_data[\"photographer_username\"]}?utm_source=NaturalLanguageImageSearch&utm_medium=referral\">{photo_data[\"photographer_first_name\"]} {photo_data[\"photographer_last_name\"]}</a> on <a href=\"https://unsplash.com/?utm_source=NaturalLanguageImageSearch&utm_medium=referral\">Unsplash</a>, similarity={best_photos[i][0]}'))\n",
    "    print()"
   ]
  },
  {
   "cell_type": "code",
   "execution_count": 8,
   "metadata": {},
   "outputs": [],
   "source": [
    "def search_image(search_query, N=3):\n",
    "    with torch.no_grad():\n",
    "        text_encoded = model.encode_text(clip.tokenize(search_query).to(device))\n",
    "        text_encoded /= text_encoded.norm(dim=-1, keepdim = True)\n",
    "    text_features = text_encoded.cpu().numpy()\n",
    "    similarities = list((text_features @ photo_features.T).squeeze(0))\n",
    "    best_photos = sorted(zip(similarities, range(photo_features.shape[0])), key=lambda x: x[0], reverse=True)\n",
    "    for i in range(N):\n",
    "        idx = best_photos[i][1]\n",
    "        photo_id = photo_ids[idx]\n",
    "        photo_data = photos[photos[\"photo_id\"] == photo_id].iloc[0]\n",
    "        display(Image(url=photo_data[\"photo_image_url\"]+\"?w=640\"))\n",
    "        display(HTML(f'Photo by <a href=\"https://unsplash.com/@{photo_data[\"photographer_username\"]}?utm_source=NaturalLanguageImageSearch&utm_medium=referral\">{photo_data[\"photographer_first_name\"]} {photo_data[\"photographer_last_name\"]}</a> on <a href=\"https://unsplash.com/?utm_source=NaturalLanguageImageSearch&utm_medium=referral\">Unsplash</a>, similarity={best_photos[i][0]}'))\n",
    "        print()"
   ]
  },
  {
   "cell_type": "code",
   "execution_count": 9,
   "metadata": {},
   "outputs": [
    {
     "output_type": "display_data",
     "data": {
      "text/html": "<img src=\"https://images.unsplash.com/photo-1565474087707-689ce01e7e39?w=640\"/>",
      "text/plain": "<IPython.core.display.Image object>"
     },
     "metadata": {}
    },
    {
     "output_type": "display_data",
     "data": {
      "text/plain": "<IPython.core.display.HTML object>",
      "text/html": "Photo by <a href=\"https://unsplash.com/@tristan_gevaux?utm_source=NaturalLanguageImageSearch&utm_medium=referral\">Tristan Gevaux</a> on <a href=\"https://unsplash.com/?utm_source=NaturalLanguageImageSearch&utm_medium=referral\">Unsplash</a>, similarity=0.297119140625"
     },
     "metadata": {}
    },
    {
     "output_type": "stream",
     "name": "stdout",
     "text": [
      "\n"
     ]
    },
    {
     "output_type": "display_data",
     "data": {
      "text/html": "<img src=\"https://images.unsplash.com/photo-1572520954608-b325fe692ba7?w=640\"/>",
      "text/plain": "<IPython.core.display.Image object>"
     },
     "metadata": {}
    },
    {
     "output_type": "display_data",
     "data": {
      "text/plain": "<IPython.core.display.HTML object>",
      "text/html": "Photo by <a href=\"https://unsplash.com/@mister_m?utm_source=NaturalLanguageImageSearch&utm_medium=referral\">Imraumanzug nan</a> on <a href=\"https://unsplash.com/?utm_source=NaturalLanguageImageSearch&utm_medium=referral\">Unsplash</a>, similarity=0.29296875"
     },
     "metadata": {}
    },
    {
     "output_type": "stream",
     "name": "stdout",
     "text": [
      "\n"
     ]
    },
    {
     "output_type": "display_data",
     "data": {
      "text/html": "<img src=\"https://images.unsplash.com/photo-1574443911390-8c8ec5a3b3d7?w=640\"/>",
      "text/plain": "<IPython.core.display.Image object>"
     },
     "metadata": {}
    },
    {
     "output_type": "display_data",
     "data": {
      "text/plain": "<IPython.core.display.HTML object>",
      "text/html": "Photo by <a href=\"https://unsplash.com/@stevetsang?utm_source=NaturalLanguageImageSearch&utm_medium=referral\">Steve Tsang</a> on <a href=\"https://unsplash.com/?utm_source=NaturalLanguageImageSearch&utm_medium=referral\">Unsplash</a>, similarity=0.29296875"
     },
     "metadata": {}
    },
    {
     "output_type": "stream",
     "name": "stdout",
     "text": [
      "\n"
     ]
    },
    {
     "output_type": "display_data",
     "data": {
      "text/html": "<img src=\"https://images.unsplash.com/photo-1578847117276-c07b8dad7a0f?w=640\"/>",
      "text/plain": "<IPython.core.display.Image object>"
     },
     "metadata": {}
    },
    {
     "output_type": "display_data",
     "data": {
      "text/plain": "<IPython.core.display.HTML object>",
      "text/html": "Photo by <a href=\"https://unsplash.com/@eugenechystiakov?utm_source=NaturalLanguageImageSearch&utm_medium=referral\">Eugene Chystiakov</a> on <a href=\"https://unsplash.com/?utm_source=NaturalLanguageImageSearch&utm_medium=referral\">Unsplash</a>, similarity=0.28515625"
     },
     "metadata": {}
    },
    {
     "output_type": "stream",
     "name": "stdout",
     "text": [
      "\n"
     ]
    }
   ],
   "source": [
    "search_image(\"A cat play on the table\", N=4)"
   ]
  },
  {
   "cell_type": "code",
   "execution_count": null,
   "metadata": {},
   "outputs": [],
   "source": []
  }
 ]
}
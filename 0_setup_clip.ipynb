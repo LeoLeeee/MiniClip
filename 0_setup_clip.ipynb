{
 "metadata": {
  "language_info": {
   "codemirror_mode": {
    "name": "ipython",
    "version": 3
   },
   "file_extension": ".py",
   "mimetype": "text/x-python",
   "name": "python",
   "nbconvert_exporter": "python",
   "pygments_lexer": "ipython3",
   "version": "3.8.5-final"
  },
  "orig_nbformat": 2,
  "kernelspec": {
   "name": "python3",
   "display_name": "Python 3.8.5 64-bit ('pytorch_gpu': conda)",
   "metadata": {
    "interpreter": {
     "hash": "87ea0c2bfc8d33363b62de134cfa12cc037bed7b7625ab24887ee8fe91891aef"
    }
   }
  }
 },
 "nbformat": 4,
 "nbformat_minor": 2,
 "cells": [
  {
   "cell_type": "code",
   "execution_count": 1,
   "metadata": {},
   "outputs": [
    {
     "output_type": "stream",
     "name": "stdout",
     "text": [
      "Collecting git+https://hub.fastgit.org/openai/CLIP.git\n  Cloning https://hub.fastgit.org/openai/CLIP.git to c:\\users\\ruili\\appdata\\local\\temp\\pip-req-build-hpreteik\nRequirement already satisfied: ftfy in c:\\users\\ruili\\.conda\\envs\\pytorch_gpu\\lib\\site-packages (from clip==1.0) (5.9)\nRequirement already satisfied: regex in c:\\users\\ruili\\.conda\\envs\\pytorch_gpu\\lib\\site-packages (from clip==1.0) (2021.3.17)\nRequirement already satisfied: tqdm in c:\\users\\ruili\\.conda\\envs\\pytorch_gpu\\lib\\site-packages (from clip==1.0) (4.59.0)\nRequirement already satisfied: torch~=1.7.1 in c:\\users\\ruili\\.conda\\envs\\pytorch_gpu\\lib\\site-packages (from clip==1.0) (1.7.1)\nRequirement already satisfied: torchvision~=0.8.2 in c:\\users\\ruili\\.conda\\envs\\pytorch_gpu\\lib\\site-packages (from clip==1.0) (0.8.2)\nRequirement already satisfied: wcwidth in c:\\users\\ruili\\appdata\\roaming\\python\\python38\\site-packages (from ftfy->clip==1.0) (0.2.5)\nRequirement already satisfied: typing_extensions in c:\\users\\ruili\\.conda\\envs\\pytorch_gpu\\lib\\site-packages (from torch~=1.7.1->clip==1.0) (3.7.4.3)\nRequirement already satisfied: numpy in c:\\users\\ruili\\.conda\\envs\\pytorch_gpu\\lib\\site-packages (from torch~=1.7.1->clip==1.0) (1.19.2)\nRequirement already satisfied: numpy in c:\\users\\ruili\\.conda\\envs\\pytorch_gpu\\lib\\site-packages (from torch~=1.7.1->clip==1.0) (1.19.2)\nRequirement already satisfied: torch~=1.7.1 in c:\\users\\ruili\\.conda\\envs\\pytorch_gpu\\lib\\site-packages (from clip==1.0) (1.7.1)\nRequirement already satisfied: pillow>=4.1.1 in c:\\users\\ruili\\.conda\\envs\\pytorch_gpu\\lib\\site-packages (from torchvision~=0.8.2->clip==1.0) (8.0.1)\n"
     ]
    }
   ],
   "source": [
    "!pip install git+https://hub.fastgit.org/openai/CLIP.git   # In China, use the fastgit.org to accelerate."
   ]
  },
  {
   "cell_type": "code",
   "execution_count": null,
   "metadata": {},
   "outputs": [],
   "source": []
  }
 ]
}
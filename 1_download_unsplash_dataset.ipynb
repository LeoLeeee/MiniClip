{
 "metadata": {
  "language_info": {
   "codemirror_mode": {
    "name": "ipython",
    "version": 3
   },
   "file_extension": ".py",
   "mimetype": "text/x-python",
   "name": "python",
   "nbconvert_exporter": "python",
   "pygments_lexer": "ipython3",
   "version": "3.7.6-final"
  },
  "orig_nbformat": 2,
  "kernelspec": {
   "name": "python3",
   "display_name": "Python 3",
   "language": "python"
  }
 },
 "nbformat": 4,
 "nbformat_minor": 2,
 "cells": [
  {
   "cell_type": "code",
   "execution_count": 1,
   "metadata": {},
   "outputs": [],
   "source": [
    "from pathlib import Path\n",
    "dataset_version = \"lite\"\n",
    "unsplash_dataset_path = Path(\"../ML_data/unsplash-dataset\") / dataset_version"
   ]
  },
  {
   "cell_type": "code",
   "execution_count": 2,
   "metadata": {},
   "outputs": [
    {
     "output_type": "execute_result",
     "data": {
      "text/plain": [
       "WindowsPath('../ML_data/unsplash-dataset/lite')"
      ]
     },
     "metadata": {},
     "execution_count": 2
    }
   ],
   "source": [
    "unsplash_dataset_path"
   ]
  },
  {
   "cell_type": "code",
   "execution_count": 3,
   "metadata": {},
   "outputs": [
    {
     "output_type": "stream",
     "name": "stdout",
     "text": [
      "Photos in the dataset: 25000 The first photo_id:2Q8zDWkj0Yw and its url:https://images.unsplash.com/photo-1415201179613-bd037ff5eb29\n"
     ]
    }
   ],
   "source": [
    "import pandas as pd \n",
    "photos = pd.read_csv(unsplash_dataset_path / \"photos.tsv000\", sep='\\t', header=0)\n",
    "photo_urls = photos[['photo_id', 'photo_image_url']].values.tolist()\n",
    "print(f\"Photos in the dataset: {len(photo_urls)}\", f\"The first photo_id:{photo_urls[0][0]} and its url:{photo_urls[0][1]}\")"
   ]
  },
  {
   "cell_type": "code",
   "execution_count": 4,
   "metadata": {},
   "outputs": [],
   "source": [
    "import urllib.request\n",
    "import socket\n",
    "socket.setdefaulttimeout(10.0)\n",
    "photos_download_path = unsplash_dataset_path / \"photos\"\n",
    "\n",
    "def download_photo(photo):\n",
    "    # get the ID of the photo\n",
    "    photo_id = photo[0]\n",
    "    # get the rul of the photo and setting the width to 640 pixels\n",
    "    photo_url = photo[1] + \"?w=640\"\n",
    "    photo_path = photos_download_path / (photo_id + \".jpg\")\n",
    "    if not photo_path.exists():\n",
    "        try:\n",
    "            urllib.request.urlretrieve(photo_url, photo_path)\n",
    "        except Exception as e:\n",
    "            print(f\"Cannot download {photo_id} with error:{e}\")\n"
   ]
  },
  {
   "cell_type": "code",
   "execution_count": 5,
   "metadata": {
    "tags": []
   },
   "outputs": [
    {
     "output_type": "stream",
     "name": "stdout",
     "text": [
      "Cannot download vigsqYux_-8 with error:<urlopen error [Errno 11001] getaddrinfo failed>\n",
      "Cannot download 9_9hzZVjV8s with error:<urlopen error [Errno 11001] getaddrinfo failed>\n",
      "Cannot download rsJtMXn3p_c with error:<urlopen error [Errno 11001] getaddrinfo failed>\n",
      "Cannot download RDs0THr4lGs with error:HTTP Error 422: Unprocessable Entity\n"
     ]
    },
    {
     "output_type": "display_data",
     "data": {
      "text/plain": "'Photos downloaded:25000'"
     },
     "metadata": {}
    }
   ],
   "source": [
    "from multiprocessing.pool import ThreadPool\n",
    "\n",
    "threads_count = 128\n",
    "pool = ThreadPool(threads_count)\n",
    "pool.map(download_photo, photo_urls)\n",
    "\n",
    "display(f\"Photos downloaded:{len(photos)}\")"
   ]
  },
  {
   "cell_type": "code",
   "execution_count": 6,
   "metadata": {},
   "outputs": [],
   "source": [
    "photo_id_failed = [\"vigsqYux_-8\", \"9_9hzZVjV8s\", \"rsJtMXn3p_c\", \"RDs0THr4lGs\"]"
   ]
  }
 ]
}